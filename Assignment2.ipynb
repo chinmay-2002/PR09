{
 "cells": [
  {
   "cell_type": "code",
   "execution_count": 2,
   "id": "49fea71f",
   "metadata": {},
   "outputs": [],
   "source": [
    "import pandas as pd\n",
    "import numpy as np"
   ]
  },
  {
   "cell_type": "code",
   "execution_count": 3,
   "id": "262c63d6",
   "metadata": {},
   "outputs": [],
   "source": [
    "student = pd.read_csv(\"StudentsPerformance.csv\")"
   ]
  },
  {
   "cell_type": "code",
   "execution_count": null,
   "id": "45184e04",
   "metadata": {},
   "outputs": [],
   "source": [
    "# Prints Raw Column Missing Values\n",
    "student.isnull().sum() "
   ]
  },
  {
   "cell_type": "code",
   "execution_count": null,
   "id": "00a1fd73",
   "metadata": {},
   "outputs": [],
   "source": [
    "#filling missing value by mean\n",
    "student['math_score'].fillna(int(student['math_score'].mean()), inplace=True)"
   ]
  },
  {
   "cell_type": "raw",
   "id": "62002ac7",
   "metadata": {},
   "source": [
    "student.isnull().sum() "
   ]
  },
  {
   "cell_type": "code",
   "execution_count": null,
   "id": "c8133936",
   "metadata": {},
   "outputs": [],
   "source": [
    "# filling a missing value with previous ones \n",
    "student['reading_score'].fillna(method ='pad',inplace=True)"
   ]
  },
  {
   "cell_type": "raw",
   "id": "130fe1cc",
   "metadata": {},
   "source": [
    "student.isnull().sum()"
   ]
  },
  {
   "cell_type": "code",
   "execution_count": null,
   "id": "6b31d257",
   "metadata": {},
   "outputs": [],
   "source": [
    "#filling missing value by median\n",
    "student['writing_score'].fillna(int(student['writing_score'].median()), inplace=True)"
   ]
  },
  {
   "cell_type": "raw",
   "id": "093dda88",
   "metadata": {},
   "source": [
    "student.isnull().sum()"
   ]
  },
  {
   "cell_type": "code",
   "execution_count": 4,
   "id": "2c9edb25",
   "metadata": {},
   "outputs": [
    {
     "name": "stdout",
     "output_type": "stream",
     "text": [
      "mean=50.049 stdv=4.994\n"
     ]
    }
   ],
   "source": [
    "from numpy.random import seed\n",
    "from numpy.random import randn\n",
    "from numpy import mean\n",
    "from numpy import std\n",
    "seed(1)\n",
    "#univariate dataset- single variable/ attribute\n",
    "#multivariate detaset-muliple variables/attributes\n",
    "data=5*randn(10000)+50\n",
    "print('mean=%.3f stdv=%.3f' %(mean(data), std(data)))"
   ]
  },
  {
   "cell_type": "raw",
   "id": "93594c25",
   "metadata": {},
   "source": [
    "# Standard Deviation Methods\n",
    "data_mean = mean(data)\n",
    "data_std = std(data)\n",
    "cut_off = data_std * 3\n",
    "lower = data_mean - cut_off\n",
    "upper = data_mean + cut_off"
   ]
  },
  {
   "cell_type": "code",
   "execution_count": null,
   "id": "48749635",
   "metadata": {},
   "outputs": [],
   "source": [
    "outliers=[x for x in data if x<lower or x > upper]\n",
    "outliers # Printing Outliers"
   ]
  },
  {
   "cell_type": "code",
   "execution_count": null,
   "id": "e277355b",
   "metadata": {},
   "outputs": [],
   "source": [
    "# Plotting\n",
    "import matplotlib.pyplot as plt\n",
    "plt.plot(data)"
   ]
  },
  {
   "cell_type": "code",
   "execution_count": null,
   "id": "d91b511f",
   "metadata": {},
   "outputs": [],
   "source": [
    "outliers_removed=[x for x in data if x>=lower and x<=upper]\n",
    "plt.plot(outliers_removed)"
   ]
  },
  {
   "cell_type": "code",
   "execution_count": null,
   "id": "2e264ecb",
   "metadata": {},
   "outputs": [],
   "source": [
    "from numpy.lib.function_base import percentile\n",
    "q25=percentile(data,25)\n",
    "q75=percentile(data,75)\n",
    "IQR=q75-q25\n",
    "cut_off_IQR= IQR * 2\n",
    "lower=q25-cut_off_IQR\n",
    "upper= q75 +cut_off_IQR"
   ]
  },
  {
   "cell_type": "code",
   "execution_count": null,
   "id": "bf4a3b56",
   "metadata": {},
   "outputs": [],
   "source": [
    "outliers_IQR = [x for x in data if x < lower or x > upper]\n",
    "outliers_IQR"
   ]
  },
  {
   "cell_type": "code",
   "execution_count": null,
   "id": "988e1815",
   "metadata": {},
   "outputs": [],
   "source": [
    "outliers_removed=[x for x in data if x>=lower and x<=upper]\n",
    "plt.plot(outliers_removed)"
   ]
  },
  {
   "cell_type": "code",
   "execution_count": 8,
   "id": "2b8c45ac",
   "metadata": {},
   "outputs": [],
   "source": [
    "from sklearn.preprocessing import MinMaxScaler"
   ]
  },
  {
   "cell_type": "code",
   "execution_count": 9,
   "id": "5cb28534",
   "metadata": {},
   "outputs": [],
   "source": [
    "mms = MinMaxScaler()     "
   ]
  },
  {
   "cell_type": "raw",
   "id": "b9972d2a",
   "metadata": {},
   "source": [
    "student[['math_score','reading_score','writing_score']] = mms.fit_transform(student[['math_score','reading_score','writing_score']])"
   ]
  },
  {
   "cell_type": "raw",
   "id": "483c7fe9",
   "metadata": {},
   "source": [
    "student.head()"
   ]
  }
 ],
 "metadata": {
  "kernelspec": {
   "display_name": "Python 3 (ipykernel)",
   "language": "python",
   "name": "python3"
  },
  "language_info": {
   "codemirror_mode": {
    "name": "ipython",
    "version": 3
   },
   "file_extension": ".py",
   "mimetype": "text/x-python",
   "name": "python",
   "nbconvert_exporter": "python",
   "pygments_lexer": "ipython3",
   "version": "3.9.13"
  }
 },
 "nbformat": 4,
 "nbformat_minor": 5
}
